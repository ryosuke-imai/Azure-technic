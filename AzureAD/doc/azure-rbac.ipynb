{
 "cells": [
  {
   "cell_type": "markdown",
   "metadata": {},
   "source": [
    "# Azure ロールベースのアクセス制御 (Azure RBAC)"
   ]
  },
  {
   "cell_type": "markdown",
   "metadata": {},
   "source": [
    "#### 前提条件\n",
    " - [PowerShell 7.X.X](https://docs.microsoft.com/ja-jp/powershell/azure/install-az-ps?view=azps-7.0.0)"
   ]
  },
  {
   "cell_type": "markdown",
   "metadata": {},
   "source": [
    "## RBAC とは\n",
    "\n",
    "ロールベースアクセス制御 : \n",
    "\n",
    "### できることは\n",
    "- あるユーザーにサブスクリプション内の仮想マシンの管理を許可し、別のユーザーに仮想ネットワークの管理を許可\n",
    "- DBA グループにサブスクリプション内の SQL データベースの管理を許可\n",
    "- あるユーザーに、仮想マシン、Web サイト、サブネットなど、リソース グループ内のすべてのリソースの管理を許可\n",
    "- あるアプリケーションに、リソース グループ内のすべてのリソースへのアクセスを許可\n",
    "\n",
    "### 実施方法\n",
    "ロールを割り当てる（以下、3要素）  \n",
    "\n",
    "- セキュリティープリンシパル\n",
    "- ロールの定義\n",
    "- スコープ"
   ]
  },
  {
   "cell_type": "markdown",
   "metadata": {},
   "source": [
    "### セキュリティープリンシパルとは\n",
    "ユーザ、グループ、サービスプリンシパル、マネージドIDのこと\n",
    "\n",
    "![](https://docs.microsoft.com/ja-jp/azure/role-based-access-control/media/shared/rbac-security-principal.png)  \n",
    "出展 : [Azure公式 - セキュリティ プリンシパル -](https://docs.microsoft.com/ja-jp/azure/role-based-access-control/overview#security-principal)"
   ]
  },
  {
   "cell_type": "markdown",
   "metadata": {},
   "source": [
    "### ロール定義\n",
    "アクセス定義の設定情報（コレクションとよんでいる）通常は「ロール」と呼ばれる。\n",
    "つまりは、どのような権限を与えるか という定義。  \n",
    "[組み込み](https://docs.microsoft.com/ja-jp/azure/role-based-access-control/built-in-roles) と [カスタム](https://docs.microsoft.com/ja-jp/azure/role-based-access-control/custom-roles)がある。カスタムは有償プランが必要\n",
    "\n",
    "![ロールの定義イメージ](https://docs.microsoft.com/ja-jp/azure/role-based-access-control/media/shared/rbac-role-definition.png)  \n",
    "出展 : [Azure公式 - ロール定義 -](https://docs.microsoft.com/ja-jp/azure/role-based-access-control/overview#role-definition)  \n",
    "\n",
    "ロール定義の仕組みの[詳細](https://docs.microsoft.com/ja-jp/azure/role-based-access-control/role-definitions)"
   ]
  },
  {
   "cell_type": "markdown",
   "metadata": {},
   "source": [
    "### Scope（スコープ）\n",
    "\n",
    "スコープは文字通り適用箇所になります。  \n",
    "4つのレベルで指定ができ、下に行くほどスコープは小さくなります。\n",
    "基本的に、役割を明確にすることで、余計な権限を与えないことがセキュリティー的には重要です。\n",
    "\n",
    "![割り当てのイメージ](https://docs.microsoft.com/ja-jp/azure/role-based-access-control/media/shared/rbac-scope.png)  \n",
    "出展 : [Azure公式 Score](https://docs.microsoft.com/ja-jp/azure/role-based-access-control/overview#scope)  \n",
    "\n",
    "スコープについて詳しい話は[こちら](https://docs.microsoft.com/ja-jp/azure/role-based-access-control/scope-overview)参照\n"
   ]
  },
  {
   "cell_type": "markdown",
   "metadata": {},
   "source": [
    "## PowerShell での操作"
   ]
  },
  {
   "cell_type": "markdown",
   "metadata": {},
   "source": [
    "PowerShellにてロールの割り当て作業をする手順は以下4つの流れになる。  \n",
    "\n",
    "1. 手順 1: アクセスが必要なユーザーを決定する\n",
    "2. 手順 2:適切なロールを選択する\n",
    "3. 手順 3:必要なスコープを特定する\n",
    "4. 手順 4:ロールを割り当てる\n",
    "\n",
    "\n",
    "[参考](https://docs.microsoft.com/ja-jp/azure/role-based-access-control/role-assignments-powershell)"
   ]
  },
  {
   "cell_type": "markdown",
   "metadata": {},
   "source": [
    "### 手順 1: アクセスが必要なユーザーを決定する"
   ]
  },
  {
   "cell_type": "markdown",
   "metadata": {},
   "source": [
    "### セキュリティープリンシパルの取得"
   ]
  },
  {
   "cell_type": "markdown",
   "metadata": {},
   "source": [
    "#### ユーザ取得\n",
    "\n",
    "[Get-AzADUser](https://docs.microsoft.com/ja-jp/powershell/module/az.resources/get-azaduser?view=azps-7.0.0)"
   ]
  },
  {
   "cell_type": "code",
   "execution_count": null,
   "metadata": {},
   "outputs": [],
   "source": [
    "Get-AzADUser -StartsWith <userName>\n",
    "(Get-AzADUser -DisplayName <userName>).id"
   ]
  },
  {
   "cell_type": "markdown",
   "metadata": {},
   "source": [
    "#### グループ取得\n",
    "\n",
    "[Get-AzADGroup](https://docs.microsoft.com/ja-jp/powershell/module/az.resources/get-azadgroup?view=azps-7.0.0)\n"
   ]
  },
  {
   "cell_type": "code",
   "execution_count": null,
   "metadata": {},
   "outputs": [],
   "source": [
    "Get-AzADGroup -SearchString <groupName>\n",
    "(Get-AzADGroup -DisplayName <groupName>).id"
   ]
  },
  {
   "cell_type": "markdown",
   "metadata": {},
   "source": [
    "#### サービス プリンシパル\n",
    "\n",
    "[Get-AzADServicePrincipal](https://docs.microsoft.com/ja-jp/powershell/module/az.resources/get-azadserviceprincipal?view=azps-7.0.0)"
   ]
  },
  {
   "cell_type": "code",
   "execution_count": null,
   "metadata": {},
   "outputs": [],
   "source": [
    "Get-AzADServicePrincipal -SearchString <principalName>\n",
    "(Get-AzADServicePrincipal -DisplayName <principalName>).id"
   ]
  },
  {
   "cell_type": "markdown",
   "metadata": {},
   "source": [
    "#### 管理対象 ID\n",
    "\n",
    "[Get-AzADServicePrincipal](https://docs.microsoft.com/ja-jp/powershell/module/az.resources/get-azadserviceprincipal?view=azps-7.0.0)"
   ]
  },
  {
   "cell_type": "code",
   "execution_count": null,
   "metadata": {},
   "outputs": [],
   "source": [
    "Get-AzADServicePrincipal -SearchString <principalName>\n",
    "(Get-AzADServicePrincipal -DisplayName <principalName>).id"
   ]
  },
  {
   "cell_type": "markdown",
   "metadata": {},
   "source": [
    "### 手順 2:適切なロールを選択する\n"
   ]
  },
  {
   "cell_type": "markdown",
   "metadata": {},
   "source": [
    "#### ロールの取得\n",
    "\n",
    "必要最小限の特権を持つアクセス権を付与するのがベスト プラクティス  \n",
    "\n",
    "取得したロールから必要なものを選択する。"
   ]
  },
  {
   "cell_type": "code",
   "execution_count": null,
   "metadata": {},
   "outputs": [],
   "source": [
    "Get-AzRoleDefinition | FT Name, IsCustom, Id"
   ]
  },
  {
   "cell_type": "code",
   "execution_count": null,
   "metadata": {},
   "outputs": [],
   "source": [
    "Get-AzRoleDefinition <roleName>"
   ]
  },
  {
   "cell_type": "code",
   "execution_count": null,
   "metadata": {},
   "outputs": [],
   "source": [
    "# azuremlのロール取得\n",
    "Get-AzRoleDefinition | Where-Object {$_.Name -match 'azureml'}\n",
    "# azure blob"
   ]
  },
  {
   "cell_type": "markdown",
   "metadata": {},
   "source": [
    "### 手順 3:必要なスコープを特定する"
   ]
  },
  {
   "cell_type": "markdown",
   "metadata": {},
   "source": [
    "#### リソースのスコープ\n",
    "\n",
    "4つのスコープから、最低限必要なスコープを選択する  \n",
    "\n",
    "スコープの形式は以下\n",
    "```\n",
    "/subscriptions/<subscriptionId>/resourcegroups/<resourceGroupName>/providers/<providerName>/<resourceType>/<resourceSubType>/<resourceName>\n",
    "```\n",
    "\n",
    "それぞれの名称やIDを取得するためのコマンドは以下."
   ]
  },
  {
   "cell_type": "markdown",
   "metadata": {},
   "source": [
    "#### リソースグループのスコープ\n",
    "\n",
    "リソースグループの名称を取得します"
   ]
  },
  {
   "cell_type": "code",
   "execution_count": null,
   "metadata": {},
   "outputs": [],
   "source": [
    "Get-AzResourceGroup"
   ]
  },
  {
   "cell_type": "markdown",
   "metadata": {},
   "source": [
    "#### サブスクリプションのスコープ\n",
    "\n",
    "サブスクリプションIDを取得します。"
   ]
  },
  {
   "cell_type": "code",
   "execution_count": null,
   "metadata": {},
   "outputs": [],
   "source": [
    "Get-AzSubscription"
   ]
  },
  {
   "cell_type": "markdown",
   "metadata": {},
   "source": [
    "#### 管理グループ\n",
    "\n",
    "管理グループ名が必要です"
   ]
  },
  {
   "cell_type": "code",
   "execution_count": null,
   "metadata": {},
   "outputs": [],
   "source": [
    "Get-AzManagementGroup"
   ]
  },
  {
   "cell_type": "markdown",
   "metadata": {},
   "source": [
    "### 手順 4:ロールを割り当てる\n",
    "\n",
    "[New-AzRoleAssignment](https://docs.microsoft.com/ja-jp/powershell/module/az.resources/new-azroleassignment?view=azps-7.0.0)"
   ]
  },
  {
   "cell_type": "markdown",
   "metadata": {},
   "source": [
    "#### リソースのスコープのサンプル"
   ]
  },
  {
   "cell_type": "code",
   "execution_count": null,
   "metadata": {},
   "outputs": [],
   "source": [
    "New-AzRoleAssignment -ObjectId <objectId> `\n",
    "-RoleDefinitionName <roleName> `\n",
    "-Scope /subscriptions/<subscriptionId>/resourcegroups/<resourceGroupName>/providers/<providerName>/<resourceType>/<resourceSubType>/<resourceName>"
   ]
  },
  {
   "cell_type": "code",
   "execution_count": null,
   "metadata": {},
   "outputs": [],
   "source": [
    "New-AzRoleAssignment -ObjectId <objectId> `\n",
    "-RoleDefinitionId <roleId> `\n",
    "-ResourceName <resourceName> `\n",
    "-ResourceType <resourceType> `\n",
    "-ResourceGroupName <resourceGroupName>"
   ]
  },
  {
   "cell_type": "markdown",
   "metadata": {},
   "source": []
  }
 ],
 "metadata": {
  "language_info": {
   "name": "python"
  },
  "orig_nbformat": 4
 },
 "nbformat": 4,
 "nbformat_minor": 2
}
