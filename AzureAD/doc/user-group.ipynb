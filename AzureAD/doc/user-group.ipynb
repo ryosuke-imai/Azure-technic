{
 "cells": [
  {
   "cell_type": "markdown",
   "metadata": {},
   "source": [
    "# User & group"
   ]
  },
  {
   "cell_type": "markdown",
   "metadata": {},
   "source": [
    "## PowerShell 操作\n",
    "\n",
    "### 前提条件\n",
    "- power shell version : \n",
    "- モジュール : [Azure Active Directory PowerShell for Graph](https://docs.microsoft.com/ja-jp/powershell/azure/active-directory/install-adv2?view=azureadps-2.0) "
   ]
  },
  {
   "cell_type": "markdown",
   "metadata": {},
   "source": [
    "### ユーザ追加 (Member)\n",
    "[New-AzureADUser](https://docs.microsoft.com/en-us/powershell/module/azuread/new-azureaduser?view=azureadps-2.0)"
   ]
  },
  {
   "cell_type": "code",
   "execution_count": null,
   "metadata": {},
   "outputs": [],
   "source": [
    "$PasswordProfile = New-Object -TypeName Microsoft.Open.AzureAD.Model.PasswordProfile\n",
    "$PasswordProfile.Password = \"passw@rd\"\n",
    "$PasswordProfile.ForceChangePasswordNextLogin = $false\n",
    "\n",
    "$DisplayName = \"Ryosuke\"\n",
    "$UserPrincipalName = \"ryosukellyB@contoso.com\"\n",
    "$MailNickName = \"ryosukelly\"\n",
    "\n",
    "New-AzureADUser -DisplayName $DisplayName -PasswordProfile $PasswordProfile -UserPrincipalName $UserPrincipalName -AccountEnabled $true -MailNickName $MailNickName"
   ]
  },
  {
   "cell_type": "markdown",
   "metadata": {},
   "source": [
    "### "
   ]
  },
  {
   "cell_type": "code",
   "execution_count": null,
   "metadata": {},
   "outputs": [],
   "source": []
  },
  {
   "cell_type": "markdown",
   "metadata": {},
   "source": []
  },
  {
   "cell_type": "markdown",
   "metadata": {},
   "source": []
  }
 ],
 "metadata": {
  "language_info": {
   "name": "python"
  },
  "orig_nbformat": 4
 },
 "nbformat": 4,
 "nbformat_minor": 2
}
