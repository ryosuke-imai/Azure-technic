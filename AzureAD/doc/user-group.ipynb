{
 "cells": [
  {
   "cell_type": "markdown",
   "metadata": {},
   "source": [
    "# User & group"
   ]
  },
  {
   "cell_type": "markdown",
   "metadata": {},
   "source": [
    "## PowerShell 操作\n",
    "\n",
    "### 前提条件\n",
    "- power shell version : \n",
    "- モジュール : [Azure Active Directory PowerShell for Graph](https://docs.microsoft.com/ja-jp/powershell/azure/active-directory/install-adv2?view=azureadps-2.0) "
   ]
  },
  {
   "cell_type": "markdown",
   "metadata": {},
   "source": [
    "## ユーザ管理"
   ]
  },
  {
   "cell_type": "markdown",
   "metadata": {},
   "source": [
    "### ユーザ取得 (menber)\n",
    "\n",
    "[Get-AzureADUser](https://docs.microsoft.com/en-us/powershell/module/azuread/get-azureaduser?view=azureadps-2.0)"
   ]
  },
  {
   "cell_type": "code",
   "execution_count": null,
   "metadata": {},
   "outputs": [],
   "source": [
    "# ユーザ取得\n",
    "Get-AzureADUser\n",
    "\n",
    "# ユーザ条件を指定して取得\n",
    "$UserDisplayName=\"ryo\"\n",
    "$user=Get-AzureADUser | Where-Object {$_.DisplayName -eq $UserDisplayName}\n",
    "$user=Get-AzureADUser | Where-Object {$_.DisplayName -match $UserDisplayName}"
   ]
  },
  {
   "cell_type": "markdown",
   "metadata": {},
   "source": [
    "### ユーザ追加 (member)\n",
    "[New-AzureADUser](https://docs.microsoft.com/en-us/powershell/module/azuread/new-azureaduser?view=azureadps-2.0)"
   ]
  },
  {
   "cell_type": "code",
   "execution_count": null,
   "metadata": {},
   "outputs": [],
   "source": [
    "$PasswordProfile = New-Object -TypeName Microsoft.Open.AzureAD.Model.PasswordProfile\n",
    "$PasswordProfile.Password = \"passw@rd\"\n",
    "$PasswordProfile.ForceChangePasswordNextLogin = $false\n",
    "\n",
    "$DisplayName = \"Ryosuke\"\n",
    "$UserPrincipalName = \"ryosukellyB@contoso.com\"\n",
    "$MailNickName = \"ryosukelly\"\n",
    "\n",
    "New-AzureADUser -DisplayName $DisplayName -PasswordProfile $PasswordProfile -UserPrincipalName $UserPrincipalName -AccountEnabled $true -MailNickName $MailNickName"
   ]
  },
  {
   "cell_type": "markdown",
   "metadata": {},
   "source": [
    "## グループ管理\n"
   ]
  },
  {
   "cell_type": "markdown",
   "metadata": {},
   "source": [
    "### グループ取得\n",
    "\n",
    "[get-azureadgroup](https://docs.microsoft.com/en-us/powershell/module/azuread/get-azureadgroup?view=azureadps-2.0)"
   ]
  },
  {
   "cell_type": "code",
   "execution_count": null,
   "metadata": {},
   "outputs": [],
   "source": [
    "# 一覧の取得\n",
    "get-azureadgroup\n",
    "# 特定のグループの取得\n",
    "get-azureadgroup -ObjectId <ID>"
   ]
  },
  {
   "cell_type": "markdown",
   "metadata": {},
   "source": [
    "### グループの追加\n",
    "\n",
    "[New-AzureADGroup](https://docs.microsoft.com/en-us/powershell/module/azuread/new-azureadgroup?view=azureadps-2.0)\n"
   ]
  },
  {
   "cell_type": "code",
   "execution_count": null,
   "metadata": {},
   "outputs": [],
   "source": [
    "$Description=\"グループの説明\"\n",
    "$DisplayName=\"service-group\"\n",
    "$MailNickName=\"service-group\"\n",
    "\n",
    "New-AzureADGroup -Description $Description -DisplayName $DisplayName -MailEnabled $false -SecurityEnabled $true -MailNickName $MailNickName\n"
   ]
  },
  {
   "cell_type": "markdown",
   "metadata": {},
   "source": []
  },
  {
   "cell_type": "markdown",
   "metadata": {},
   "source": []
  }
 ],
 "metadata": {
  "language_info": {
   "name": "python"
  },
  "orig_nbformat": 4
 },
 "nbformat": 4,
 "nbformat_minor": 2
}
